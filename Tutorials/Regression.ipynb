{
 "cells": [
  {
   "cell_type": "markdown",
   "metadata": {},
   "source": [
    "# Supervised learning I\n",
    "\n",
    "This practical covers simple linear regression (Exercise 1), multiple linear regression (Exercise 2) and logitic regression (Exercise 3)."
   ]
  },
  {
   "cell_type": "code",
   "execution_count": 1,
   "metadata": {},
   "outputs": [],
   "source": [
    "# Import the necessary packages\n",
    "import numpy as np\n",
    "import math\n",
    "from scipy import stats "
   ]
  },
  {
   "cell_type": "markdown",
   "metadata": {},
   "source": [
    "## EXERCISE 1: Simple linear regression from scratch\n",
    "\n",
    "[Adapted from Data Science from Scratch, Ch. 14.]\n",
    "\n",
    "For this exercise, we'll build simple linear regression from scratch following the text book.\n",
    "\n",
    "We'll use the data from the book's imaginary social network (DataSciencester):\n",
    "\n",
    "* `num_friends` is the friend count for each user.\n",
    "* `daily_minutes` is the average time spend per day on the site for each user."
   ]
  },
  {
   "cell_type": "code",
   "execution_count": 2,
   "metadata": {},
   "outputs": [],
   "source": [
    "num_friends = [100,49,41,40,25,21,21,19,19,18,18,16,15,15,15,15,14,14,13,13,13,13,12,12,11,10,10,10,10,10,10,10,10,10,10,10,10,10,10,10,9,9,9,9,9,9,9,9,9,9,9,9,9,9,9,9,9,9,8,8,8,8,8,8,8,8,8,8,8,8,8,7,7,7,7,7,7,7,7,7,7,7,7,7,7,7,6,6,6,6,6,6,6,6,6,6,6,6,6,6,6,6,6,6,6,6,6,6,5,5,5,5,5,5,5,5,5,5,5,5,5,5,5,5,5,4,4,4,4,4,4,4,4,4,4,4,4,4,4,4,4,4,4,4,4,3,3,3,3,3,3,3,3,3,3,3,3,3,3,3,3,3,3,3,3,2,2,2,2,2,2,2,2,2,2,2,2,2,2,2,2,2,1,1,1,1,1,1,1,1,1,1,1,1,1,1,1,1,1,1,1,1,1,1]\n",
    "daily_minutes = [1,68.77,51.25,52.08,38.36,44.54,57.13,51.4,41.42,31.22,34.76,54.01,38.79,47.59,49.1,27.66,41.03,36.73,48.65,28.12,46.62,35.57,32.98,35,26.07,23.77,39.73,40.57,31.65,31.21,36.32,20.45,21.93,26.02,27.34,23.49,46.94,30.5,33.8,24.23,21.4,27.94,32.24,40.57,25.07,19.42,22.39,18.42,46.96,23.72,26.41,26.97,36.76,40.32,35.02,29.47,30.2,31,38.11,38.18,36.31,21.03,30.86,36.07,28.66,29.08,37.28,15.28,24.17,22.31,30.17,25.53,19.85,35.37,44.6,17.23,13.47,26.33,35.02,32.09,24.81,19.33,28.77,24.26,31.98,25.73,24.86,16.28,34.51,15.23,39.72,40.8,26.06,35.76,34.76,16.13,44.04,18.03,19.65,32.62,35.59,39.43,14.18,35.24,40.13,41.82,35.45,36.07,43.67,24.61,20.9,21.9,18.79,27.61,27.21,26.61,29.77,20.59,27.53,13.82,33.2,25,33.1,36.65,18.63,14.87,22.2,36.81,25.53,24.62,26.25,18.21,28.08,19.42,29.79,32.8,35.99,28.32,27.79,35.88,29.06,36.28,14.1,36.63,37.49,26.9,18.58,38.48,24.48,18.95,33.55,14.24,29.04,32.51,25.63,22.22,19,32.73,15.16,13.9,27.2,32.01,29.27,33,13.74,20.42,27.32,18.23,35.35,28.48,9.08,24.62,20.12,35.26,19.92,31.02,16.49,12.16,30.7,31.22,34.65,13.13,27.51,33.2,31.57,14.1,33.42,17.44,10.12,24.42,9.82,23.39,30.93,15.03,21.67,31.09,33.29,22.61,26.89,23.48,8.38,27.81,32.35,23.84]"
   ]
  },
  {
   "cell_type": "markdown",
   "metadata": {},
   "source": [
    "### Preliminary maths functions\n",
    "\n",
    "First we'll define some linear algebra and stats functions (from Ch. 4&5)."
   ]
  },
  {
   "cell_type": "code",
   "execution_count": 3,
   "metadata": {},
   "outputs": [],
   "source": [
    "####\n",
    "#\n",
    "# LINEAR ALGEBRA\n",
    "#\n",
    "####\n",
    "\n",
    "def vector_subtract(v, w):\n",
    "    \"\"\"subtracts two vectors componentwise\"\"\"\n",
    "    return [v_i - w_i for v_i, w_i in zip(v,w)]\n",
    "\n",
    "def dot(v, w):\n",
    "    \"\"\"v_1 * w_1 + ... + v_n * w_n\"\"\"\n",
    "    return sum(v_i * w_i for v_i, w_i in zip(v, w))\n",
    "\n",
    "def sum_of_squares(v):\n",
    "    \"\"\"v_1 * v_1 + ... + v_n * v_n\"\"\"\n",
    "    return dot(v, v)\n",
    "\n",
    "####\n",
    "#\n",
    "# STATS\n",
    "#\n",
    "####\n",
    "\n",
    "def mean(x):\n",
    "    return sum(x) / len(x)        \n",
    "\n",
    "def de_mean(x):\n",
    "    \"\"\"translate x by subtracting its mean (so the result has mean 0)\"\"\"\n",
    "    x_bar = mean(x)\n",
    "    return [x_i - x_bar for x_i in x]\n",
    "\n",
    "def variance(x):\n",
    "    \"\"\"assumes x has at least two elements\"\"\"\n",
    "    n = len(x)\n",
    "    deviations = de_mean(x)\n",
    "    return sum_of_squares(deviations) / (n - 1)\n",
    "\n",
    "def standard_deviation(x):\n",
    "    return math.sqrt(variance(x))\n",
    "\n",
    "####\n",
    "#\n",
    "# CORRELATION\n",
    "#\n",
    "#####\n",
    "\n",
    "def covariance(x, y):\n",
    "    n = len(x)\n",
    "    return dot(de_mean(x), de_mean(y)) / (n - 1)\n",
    "\n",
    "def correlation(x, y):\n",
    "    stdev_x = standard_deviation(x)\n",
    "    stdev_y = standard_deviation(y)\n",
    "    if stdev_x > 0 and stdev_y > 0:\n",
    "        return covariance(x, y) / (stdev_x * stdev_y)\n",
    "    else:\n",
    "        return 0 # if no variation, correlation is zero"
   ]
  },
  {
   "cell_type": "markdown",
   "metadata": {},
   "source": [
    "### Compare to numpy/scipy\n",
    "\n",
    "- Compare our functions above to the `mean`, `var` and `std` functions from `numpy`. Are the results effectively the same?\n",
    "- Compare the correlation above to the `pearsonr` function from `scipy.stats`. Are the results effectively the same?"
   ]
  },
  {
   "cell_type": "code",
   "execution_count": 4,
   "metadata": {},
   "outputs": [
    {
     "name": "stdout",
     "output_type": "stream",
     "text": [
      "Mean of daily minutes using numpy: 29.025245098039214\n",
      "Mean of daily minutes using the user function: 29.025245098039218\n",
      "\n",
      "Standard deviation of daily minutes using numpy: 10.014581889930454\n",
      "Standard deviation of daily minutes using the user function: 10.039218044967908\n",
      "\n",
      "Variance of daily minutes using numpy: 100.29185043012302\n",
      "Variance of daily minutes using the user function: 100.78589895440929\n",
      "\n",
      "Correlation between number of friends and daily minutes using scipy: 0.24736957366478207\n",
      "Correlation between number of friends and daily minutes using the user function: 0.24736957366478216\n"
     ]
    }
   ],
   "source": [
    "import numpy as np\n",
    "from scipy import stats \n",
    "\n",
    "print(f'Mean of daily minutes using numpy: {np.mean(daily_minutes)}')\n",
    "print(f'Mean of daily minutes using the user function: {mean(daily_minutes)}')\n",
    "\n",
    "print(f'\\nStandard deviation of daily minutes using numpy: {np.std(daily_minutes)}')\n",
    "print(f'Standard deviation of daily minutes using the user function: {standard_deviation(daily_minutes)}')\n",
    "\n",
    "print(f'\\nVariance of daily minutes using numpy: {np.var(daily_minutes)}')\n",
    "print(f'Variance of daily minutes using the user function: {variance(daily_minutes)}')\n",
    "\n",
    "print(f'\\nCorrelation between number of friends and daily minutes using scipy: {stats.pearsonr(num_friends, daily_minutes).statistic}')\n",
    "print(f'Correlation between number of friends and daily minutes using the user function: {correlation(num_friends, daily_minutes)}')"
   ]
  },
  {
   "cell_type": "markdown",
   "metadata": {},
   "source": [
    "### Removing outliers\n",
    "\n",
    "Let's have a look at the data.\n",
    "\n",
    "The data point for somebody who has 100 friends but spends 1 minute per day looks like an outlier. Let's remove it (see pages 64-65 of the text book for a discussion).\n",
    "\n",
    "This leads to much stronger correlation."
   ]
  },
  {
   "cell_type": "code",
   "execution_count": 5,
   "metadata": {},
   "outputs": [
    {
     "name": "stdout",
     "output_type": "stream",
     "text": [
      "\n",
      "Scatter plot for daily minutes vs number of friends:\n"
     ]
    },
    {
     "data": {
      "image/png": "[encoded data removed]",
      "text/plain": [
       "<Figure size 640x480 with 1 Axes>"
      ]
     },
     "metadata": {},
     "output_type": "display_data"
    }
   ],
   "source": [
    "%matplotlib inline\n",
    "import matplotlib.pyplot as plt\n",
    "\n",
    "print('\\nScatter plot for daily minutes vs number of friends:')\n",
    "_ = plt.scatter(num_friends, daily_minutes)\n",
    "_ = plt.xlim(0,100)\n",
    "_ = plt.ylim(0,100)\n",
    "_ = plt.xlabel('Number of friends')\n",
    "_ = plt.ylabel('Average minutes per day on site')\n",
    "\n",
    "outlier = num_friends.index(100) # index of outlier\n",
    "\n",
    "num_friends_good = [x\n",
    "                    for i, x in enumerate(num_friends)\n",
    "                    if i != outlier]\n",
    "\n",
    "daily_minutes_good = [x\n",
    "                      for i, x in enumerate(daily_minutes)\n",
    "                      if i != outlier]"
   ]
  },
  {
   "cell_type": "code",
   "execution_count": 6,
   "metadata": {},
   "outputs": [
    {
     "name": "stdout",
     "output_type": "stream",
     "text": [
      "Correlation before outlier removal: 0.247\n",
      "Correlation after outlier removal: 0.574\n"
     ]
    }
   ],
   "source": [
    "print('Correlation before outlier removal: {:.3f}'.format(correlation(num_friends, daily_minutes)))\n",
    "print('Correlation after outlier removal: {:.3f}'.format(correlation(num_friends_good, daily_minutes_good)))"
   ]
  },
  {
   "cell_type": "markdown",
   "metadata": {},
   "source": [
    "### Simple linear regression\n",
    "\n",
    "That's the preliminaries all done. Now we can look at linear regression between two variables.\n",
    "\n",
    "Let's assume that we think having more friends causes people to spend more time on the site (see pages 65-67 of the book for a good discussion of caveats and other possible explanations).\n",
    "\n",
    "We're now going to build a simple linear model to describe this relationship.\n",
    "\n",
    "In particular, we assume a model of the form:\n",
    "\n",
    "`y_i = beta * x_i + alpha`\n",
    "\n",
    "Note this takes us right back to [linear equations in algebra](https://en.wikipedia.org/wiki/Linear_equation):\n",
    "\n",
    "`y = mx + b`\n",
    "\n",
    "Looking back at the scatter plot and correlation, this doesn't seems plausible if we assume some noise.\n",
    "\n",
    "Let's see how this works for our data."
   ]
  },
  {
   "cell_type": "code",
   "execution_count": 7,
   "metadata": {},
   "outputs": [],
   "source": [
    "def predict(alpha, beta, x_i):\n",
    "    \"\"\"the linear model\n",
    "    alpha and beta are our model parameters\n",
    "    x_i is the data point\n",
    "    return the predicted y value for x_i\"\"\"\n",
    "    return beta * x_i + alpha\n",
    "\n",
    "def error(alpha, beta, x_i, y_i):\n",
    "    \"\"\"the difference between the true y_i\n",
    "    and our predicted y value\"\"\"\n",
    "    return y_i - predict(alpha, beta, x_i)\n",
    "\n",
    "def sum_of_squared_errors(alpha, beta, x, y):\n",
    "    return sum(error(alpha, beta, x_i, y_i) ** 2\n",
    "               for x_i, y_i in zip(x, y))\n",
    "\n",
    "def least_squares_fit(x,y):\n",
    "    \"\"\"given training values for x and y,\n",
    "    find the least-squares values of alpha and beta\"\"\"\n",
    "    beta = correlation(x, y) * standard_deviation(y) / standard_deviation(x)\n",
    "    alpha = mean(y) - beta * mean(x)\n",
    "    return alpha, beta\n",
    "\n",
    "def total_sum_of_squares(y):\n",
    "    \"\"\"the total squared variation of y_i's from their mean\"\"\"\n",
    "    return sum(v ** 2 for v in de_mean(y))\n",
    "\n",
    "def r_squared(alpha, beta, x, y):\n",
    "    \"\"\"the fraction of variation in y captured by the model, which equals\n",
    "    1 - the fraction of variation in y not captured by the model\"\"\"\n",
    "    return 1.0 - (sum_of_squared_errors(alpha, beta, x, y) /\n",
    "                  total_sum_of_squares(y))"
   ]
  },
  {
   "cell_type": "code",
   "execution_count": 8,
   "metadata": {},
   "outputs": [
    {
     "name": "stdout",
     "output_type": "stream",
     "text": [
      "alpha 22.94755241346903\n",
      "beta 0.903865945605865\n"
     ]
    }
   ],
   "source": [
    "alpha, beta = least_squares_fit(num_friends_good, daily_minutes_good)\n",
    "print(\"alpha\", alpha)\n",
    "print(\"beta\", beta)"
   ]
  },
  {
   "cell_type": "code",
   "execution_count": 9,
   "metadata": {},
   "outputs": [
    {
     "name": "stdout",
     "output_type": "stream",
     "text": [
      "r-squared 0.3291078377836305\n"
     ]
    }
   ],
   "source": [
    "r_squared_value = r_squared(alpha, beta, num_friends_good, daily_minutes_good)\n",
    "print(\"r-squared\", r_squared_value)"
   ]
  },
  {
   "cell_type": "markdown",
   "metadata": {},
   "source": [
    "### TODO Assessing fit and precision\n",
    "\n",
    "R-squared gives an indication of [how well the model fits our data](http://blog.minitab.com/blog/adventures-in-statistics/regression-analysis-how-do-i-interpret-r-squared-and-assess-the-goodness-of-fit). It ranges from 0 to 1, with higher values indicating a better fit.\n",
    "\n",
    "Standard error is defined as [the square root of the sum of squared errors divided by N](http://onlinestatbook.com/2/regression/accuracy.html). \n",
    "\n",
    "As a [rule of thumb](https://en.wikipedia.org/wiki/68%E2%80%9395%E2%80%9399.7_rule), we can calculate a 95% confidence interval as [+/- 2 * standard_error from the regression line](http://blog.minitab.com/blog/adventures-in-statistics/regression-analysis-how-to-interpret-s-the-standard-error-of-the-regression).\n",
    "\n",
    "- What r-squared for our model above? Does this indicate a good fit?\n",
    "- Define a `standard_error` function using `sum_of_squared_errors` and `math.sqrt`. What is the standard error of our model?\n",
    "- Suppose our requirement is that predictions should be +/- 10 minutes of the actual value. Can we say this is with 95% confidence?"
   ]
  },
  {
   "cell_type": "code",
   "execution_count": 10,
   "metadata": {},
   "outputs": [
    {
     "name": "stdout",
     "output_type": "stream",
     "text": [
      "standard error 8.062752435241086\n",
      "Predictions from training data should be within 16.12550487048217 at 95% confidence interval\n"
     ]
    }
   ],
   "source": [
    "# TODO: replace the content of this cell with your solution\n",
    "\n",
    "# 1 - The value here is 0.329. This suggests that our model only partly explains the data\n",
    "#     so there must be other factors at play (see page 176 of the text book).\n",
    "\n",
    "\n",
    "# 2 - \n",
    "def standard_error(alpha, beta, x, y):\n",
    "    return math.sqrt(sum_of_squared_errors(alpha, beta, x, y) / len(y))\n",
    "\n",
    "stderr = standard_error(alpha, beta, num_friends_good, daily_minutes_good)\n",
    "print(\"standard error\", stderr)\n",
    "\n",
    "# 3- Prediction interval\n",
    "# For the training data\n",
    "print(f'Predictions from training data should be within {2*stderr} at 95% confidence interval')\n",
    "\n",
    "\n",
    "# Nope. The standard error is ~8. 2 * 8 > 10."
   ]
  },
  {
   "cell_type": "markdown",
   "metadata": {},
   "source": [
    "Let's redraw the scatterplot from above. This time using `plt.plot` to overlay the regression line and the 95% prediction interval at + and - 2 times the calculated standard error."
   ]
  },
  {
   "cell_type": "code",
   "execution_count": 11,
   "metadata": {},
   "outputs": [
    {
     "name": "stdout",
     "output_type": "stream",
     "text": [
      "\n",
      "Scatter plot with regression line and 95% prediction interval:\n"
     ]
    },
    {
     "data": {
      "image/png": "[encoded data removed]",
      "text/plain": [
       "<Figure size 640x480 with 1 Axes>"
      ]
     },
     "metadata": {},
     "output_type": "display_data"
    }
   ],
   "source": [
    "# 4 - Plot\n",
    "print('\\nScatter plot with regression line and 95% prediction interval:')\n",
    "_ = plt.scatter(num_friends_good, daily_minutes_good)\n",
    "_ = plt.xlim(0,100)\n",
    "_ = plt.ylim(0,100)\n",
    "_ = plt.xlabel('Number of friends')\n",
    "_ = plt.ylabel('Average minutes per day on site')\n",
    "_ = plt.plot([0,100], [predict(alpha,beta,0), predict(alpha,beta,100)], 'r',\n",
    "             [0,100], [predict(alpha,beta,0)-2*stderr, predict(alpha,beta,100)-2*stderr], 'r--',\n",
    "             [0,100], [predict(alpha,beta,0)+2*stderr, predict(alpha,beta,100)+2*stderr], 'r--')"
   ]
  },
  {
   "cell_type": "markdown",
   "metadata": {},
   "source": [
    "### TODO Compare to scipy\n",
    "\n",
    "- Compare our result to the `linregress` function from `scipy.stats`. Are alpha, beta and r-squared the same?\n",
    "- The `scipy` implementation (use `linregress` from `scipy.stats` package) also returns a p-value for the H0 that slope is 0. What is the p-value? Can we reject the H0 at p<=0.01?\n",
    "\n",
    "Note the scipy implementation returns a standard error, but it the error for the slope coefficient instead of the fitting error."
   ]
  },
  {
   "cell_type": "code",
   "execution_count": 15,
   "metadata": {},
   "outputs": [
    {
     "name": "stdout",
     "output_type": "stream",
     "text": [
      "\n",
      "Comparing linear regression values:\n",
      "-----------------------------------------------\n",
      "Statistic            From Scipy    From Scratch\n",
      "-----------------------------------------------\n",
      "alpha                     22.95           22.95\n",
      "beta                       0.90            0.90\n",
      "r-squared                  0.33            0.33\n",
      "-----------------------------------------------\n",
      "\n",
      "p-value for a two-sided test of H0 that slope is 0: 3.676825862769468e-19\n",
      "Can we reject H0? Yes\n"
     ]
    }
   ],
   "source": [
    "# TODO: replace the content of this cell with your solution\n",
    "# 1 - \n",
    "from scipy.stats import linregress\n",
    "slope, intercept, r_value, p_value, slope_stderr = linregress(num_friends_good, daily_minutes_good)\n",
    "\n",
    "print('\\nComparing linear regression values:')\n",
    "print('-'*47)\n",
    "print('{:15} {:>15} {:>15}'.format('Statistic', 'From Scipy', 'From Scratch'))\n",
    "print('-'*47)\n",
    "for name, sc_val, sp_val in [(\"alpha\", intercept, alpha),\n",
    "                             (\"beta\", slope, beta),\n",
    "                             (\"r-squared\", r_squared_value, r_value**2)]:\n",
    "    print('{:15} {:15.2f} {:15.2f}'.format(name, sc_val, sp_val))\n",
    "print('-'*47)\n",
    "\n",
    "# 2 - \n",
    "print('\\np-value for a two-sided test of H0 that slope is 0: {}'.format(p_value))\n",
    "print('Can we reject H0?', 'Yes' if p_value<=0.01 else 'No')"
   ]
  },
  {
   "cell_type": "markdown",
   "metadata": {},
   "source": [
    "## EXERCISE 2: Multiple regression\n",
    "\n",
    "\n",
    "\n",
    "Let's at the [Boston Housing data set](https://archive.ics.uci.edu/ml/datasets/Housing). This contains information about housing values by suburb and related information."
   ]
  },
  {
   "cell_type": "markdown",
   "metadata": {},
   "source": [
    "### Loading and visualising data\n",
    "\n",
    "Let's load the data and have a quick look at some descriptive stats for our features."
   ]
  },
  {
   "cell_type": "code",
   "execution_count": 38,
   "metadata": {},
   "outputs": [
    {
     "data": {
      "text/html": [
       "<div>\n",
       "<style scoped>\n",
       "    .dataframe tbody tr th:only-of-type {\n",
       "        vertical-align: middle;\n",
       "    }\n",
       "\n",
       "    .dataframe tbody tr th {\n",
       "        vertical-align: top;\n",
       "    }\n",
       "\n",
       "    .dataframe thead th {\n",
       "        text-align: right;\n",
       "    }\n",
       "</style>\n",
       "<table border=\"1\" class=\"dataframe\">\n",
       "  <thead>\n",
       "    <tr style=\"text-align: right;\">\n",
       "      <th></th>\n",
       "      <th>CRIM</th>\n",
       "      <th>ZN</th>\n",
       "      <th>INDUS</th>\n",
       "      <th>CHAS</th>\n",
       "      <th>NOX</th>\n",
       "      <th>RM</th>\n",
       "      <th>AGE</th>\n",
       "      <th>DIS</th>\n",
       "      <th>RAD</th>\n",
       "      <th>TAX</th>\n",
       "      <th>PTRATIO</th>\n",
       "      <th>B</th>\n",
       "      <th>LSTAT</th>\n",
       "      <th>MEDV</th>\n",
       "    </tr>\n",
       "  </thead>\n",
       "  <tbody>\n",
       "    <tr>\n",
       "      <th>0</th>\n",
       "      <td>0.00632</td>\n",
       "      <td>18.0</td>\n",
       "      <td>2.31</td>\n",
       "      <td>0.0</td>\n",
       "      <td>0.538</td>\n",
       "      <td>6.575</td>\n",
       "      <td>65.2</td>\n",
       "      <td>4.0900</td>\n",
       "      <td>1.0</td>\n",
       "      <td>296.0</td>\n",
       "      <td>15.3</td>\n",
       "      <td>396.90</td>\n",
       "      <td>4.98</td>\n",
       "      <td>24.0</td>\n",
       "    </tr>\n",
       "    <tr>\n",
       "      <th>1</th>\n",
       "      <td>0.02731</td>\n",
       "      <td>0.0</td>\n",
       "      <td>7.07</td>\n",
       "      <td>0.0</td>\n",
       "      <td>0.469</td>\n",
       "      <td>6.421</td>\n",
       "      <td>78.9</td>\n",
       "      <td>4.9671</td>\n",
       "      <td>2.0</td>\n",
       "      <td>242.0</td>\n",
       "      <td>17.8</td>\n",
       "      <td>396.90</td>\n",
       "      <td>9.14</td>\n",
       "      <td>21.6</td>\n",
       "    </tr>\n",
       "    <tr>\n",
       "      <th>2</th>\n",
       "      <td>0.02729</td>\n",
       "      <td>0.0</td>\n",
       "      <td>7.07</td>\n",
       "      <td>0.0</td>\n",
       "      <td>0.469</td>\n",
       "      <td>7.185</td>\n",
       "      <td>61.1</td>\n",
       "      <td>4.9671</td>\n",
       "      <td>2.0</td>\n",
       "      <td>242.0</td>\n",
       "      <td>17.8</td>\n",
       "      <td>392.83</td>\n",
       "      <td>4.03</td>\n",
       "      <td>34.7</td>\n",
       "    </tr>\n",
       "    <tr>\n",
       "      <th>3</th>\n",
       "      <td>0.03237</td>\n",
       "      <td>0.0</td>\n",
       "      <td>2.18</td>\n",
       "      <td>0.0</td>\n",
       "      <td>0.458</td>\n",
       "      <td>6.998</td>\n",
       "      <td>45.8</td>\n",
       "      <td>6.0622</td>\n",
       "      <td>3.0</td>\n",
       "      <td>222.0</td>\n",
       "      <td>18.7</td>\n",
       "      <td>394.63</td>\n",
       "      <td>2.94</td>\n",
       "      <td>33.4</td>\n",
       "    </tr>\n",
       "    <tr>\n",
       "      <th>4</th>\n",
       "      <td>0.06905</td>\n",
       "      <td>0.0</td>\n",
       "      <td>2.18</td>\n",
       "      <td>0.0</td>\n",
       "      <td>0.458</td>\n",
       "      <td>7.147</td>\n",
       "      <td>54.2</td>\n",
       "      <td>6.0622</td>\n",
       "      <td>3.0</td>\n",
       "      <td>222.0</td>\n",
       "      <td>18.7</td>\n",
       "      <td>396.90</td>\n",
       "      <td>5.33</td>\n",
       "      <td>36.2</td>\n",
       "    </tr>\n",
       "  </tbody>\n",
       "</table>\n",
       "</div>"
      ],
      "text/plain": [
       "      CRIM    ZN  INDUS  CHAS    NOX     RM   AGE     DIS  RAD    TAX  \\\n",
       "0  0.00632  18.0   2.31   0.0  0.538  6.575  65.2  4.0900  1.0  296.0   \n",
       "1  0.02731   0.0   7.07   0.0  0.469  6.421  78.9  4.9671  2.0  242.0   \n",
       "2  0.02729   0.0   7.07   0.0  0.469  7.185  61.1  4.9671  2.0  242.0   \n",
       "3  0.03237   0.0   2.18   0.0  0.458  6.998  45.8  6.0622  3.0  222.0   \n",
       "4  0.06905   0.0   2.18   0.0  0.458  7.147  54.2  6.0622  3.0  222.0   \n",
       "\n",
       "   PTRATIO       B  LSTAT  MEDV  \n",
       "0     15.3  396.90   4.98  24.0  \n",
       "1     17.8  396.90   9.14  21.6  \n",
       "2     17.8  392.83   4.03  34.7  \n",
       "3     18.7  394.63   2.94  33.4  \n",
       "4     18.7  396.90   5.33  36.2  "
      ]
     },
     "execution_count": 38,
     "metadata": {},
     "output_type": "execute_result"
    }
   ],
   "source": [
    "# Import the boston data from the csv file\n",
    "import pandas as pd\n",
    "boston_df = pd.read_csv('boston.csv')\n",
    "boston_df.head()"
   ]
  },
  {
   "cell_type": "code",
   "execution_count": null,
   "metadata": {},
   "outputs": [],
   "source": [
    "# .. _boston_dataset:\n",
    "\n",
    "# Boston house prices dataset\n",
    "# ---------------------------\n",
    "\n",
    "# **Data Set Characteristics:**  \n",
    "\n",
    "#     :Number of Instances: 506 \n",
    "\n",
    "#     :Number of Attributes: 13 numeric/categorical predictive. Median Value (attribute 14) is usually the target.\n",
    "\n",
    "#     :Attribute Information (in order):\n",
    "#         - CRIM     per capita crime rate by town\n",
    "#         - ZN       proportion of residential land zoned for lots over 25,000 sq.ft.\n",
    "#         - INDUS    proportion of non-retail business acres per town\n",
    "#         - CHAS     Charles River dummy variable (= 1 if tract bounds river; 0 otherwise)\n",
    "#         - NOX      nitric oxides concentration (parts per 10 million)\n",
    "#         - RM       average number of rooms per dwelling\n",
    "#         - AGE      proportion of owner-occupied units built prior to 1940\n",
    "#         - DIS      weighted distances to five Boston employment centres\n",
    "#         - RAD      index of accessibility to radial highways\n",
    "#         - TAX      full-value property-tax rate per $10,000\n",
    "#         - PTRATIO  pupil-teacher ratio by town\n",
    "#         - B        1000(Bk - 0.63)^2 where Bk is the proportion of black people by town\n",
    "#         - LSTAT    % lower status of the population\n",
    "#         - MEDV     Median value of owner-occupied homes in $1000's\n",
    "\n",
    "#     :Missing Attribute Values: None\n",
    "\n",
    "#     :Creator: Harrison, D. and Rubinfeld, D.L.\n",
    "\n",
    "# This is a copy of UCI ML housing dataset.\n",
    "# https://archive.ics.uci.edu/ml/machine-learning-databases/housing/\n",
    "\n",
    "\n",
    "# This dataset was taken from the StatLib library which is maintained at Carnegie Mellon University.\n",
    "\n",
    "# The Boston house-price data of Harrison, D. and Rubinfeld, D.L. 'Hedonic\n",
    "# prices and the demand for clean air', J. Environ. Economics & Management,\n",
    "# vol.5, 81-102, 1978.   Used in Belsley, Kuh & Welsch, 'Regression diagnostics\n",
    "# ...', Wiley, 1980.   N.B. Various transformations are used in the table on\n",
    "# pages 244-261 of the latter.\n",
    "\n",
    "# The Boston house-price data has been used in many machine learning papers that address regression\n",
    "# problems.   \n",
    "     \n",
    "# .. topic:: References\n",
    "\n",
    "#    - Belsley, Kuh & Welsch, 'Regression diagnostics: Identifying Influential Data and Sources of Collinearity', Wiley, 1980. 244-261.\n",
    "#    - Quinlan,R. (1993). Combining Instance-Based and Model-Based Learning. In Proceedings on the Tenth International Conference of Machine Learning, 236-243, University of Massachusetts, Amherst. Morgan Kaufmann.\n"
   ]
  },
  {
   "cell_type": "code",
   "execution_count": 34,
   "metadata": {},
   "outputs": [
    {
     "name": "stdout",
     "output_type": "stream",
     "text": [
      "Descriptive stats for feature values:\n",
      "-----------------------------------------------------------------\n",
      "Name              Min        Max       Mean      Stdev     Median\n",
      "-----------------------------------------------------------------\n",
      "CRIM             0.01      88.98       3.61       8.59       0.26\n",
      "ZN               0.00     100.00      11.36      23.30       0.00\n",
      "INDUS            0.46      27.74      11.14       6.85       9.69\n",
      "CHAS             0.00       1.00       0.07       0.25       0.00\n",
      "NOX              0.39       0.87       0.55       0.12       0.54\n",
      "RM               3.56       8.78       6.28       0.70       6.21\n",
      "AGE              2.90     100.00      68.57      28.12      77.50\n",
      "DIS              1.13      12.13       3.80       2.10       3.21\n",
      "RAD              1.00      24.00       9.55       8.70       5.00\n",
      "TAX            187.00     711.00     408.24     168.37     330.00\n",
      "PTRATIO         12.60      22.00      18.46       2.16      19.05\n",
      "B                0.32     396.90     356.67      91.20     391.44\n",
      "LSTAT            1.73      37.97      12.65       7.13      11.36\n",
      "-----------------------------------------------------------------\n",
      "\n",
      "Boxplots of feature values:\n"
     ]
    },
    {
     "data": {
      "image/png": "[encoded data removed]",
      "text/plain": [
       "<Figure size 640x480 with 1 Axes>"
      ]
     },
     "metadata": {},
     "output_type": "display_data"
    }
   ],
   "source": [
    "%matplotlib inline\n",
    "import matplotlib.pyplot as plt\n",
    "import numpy as np\n",
    "\n",
    "boston_data = boston_df.iloc[:, 0:-1].values\n",
    "boston_target = boston_df.iloc[:, -1].values\n",
    "boston_feature_names = boston_df.columns[0:-1].values\n",
    "\n",
    "def cols_from_rows(data):\n",
    "    cols = [[] for _ in data[0]] # init with empty list for each column\n",
    "    for row in data:\n",
    "        for i, val in enumerate(row):\n",
    "            cols[i].append(val)\n",
    "    return cols\n",
    "\n",
    "print('Descriptive stats for feature values:')\n",
    "cols = cols_from_rows(boston_data)\n",
    "print('-'*65)\n",
    "print('{:10} {:>10} {:>10} {:>10} {:>10} {:>10}'.format('Name', 'Min', 'Max', 'Mean', 'Stdev', 'Median'))\n",
    "print('-'*65)\n",
    "for i, col in enumerate(cols):\n",
    "    print('{:10} {:10.2f} {:10.2f} {:10.2f} {:10.2f} {:10.2f}'\\\n",
    "          .format(boston_feature_names[i], min(col), max(col), np.mean(col), np.std(col), np.median(col)))\n",
    "print('-'*65)\n",
    "    \n",
    "print('\\nBoxplots of feature values:')\n",
    "cols = cols_from_rows(boston_data) + [boston_target]\n",
    "_ = plt.boxplot(cols, vert=False, notch=True, flierprops={'marker':'.'})\n",
    "labels = list(boston_feature_names) + ['VALUE']\n",
    "_ = plt.yticks(range(1,15), labels)"
   ]
  },
  {
   "cell_type": "code",
   "execution_count": 35,
   "metadata": {
    "scrolled": true
   },
   "outputs": [
    {
     "data": {
      "text/html": [
       "<div>\n",
       "<style scoped>\n",
       "    .dataframe tbody tr th:only-of-type {\n",
       "        vertical-align: middle;\n",
       "    }\n",
       "\n",
       "    .dataframe tbody tr th {\n",
       "        vertical-align: top;\n",
       "    }\n",
       "\n",
       "    .dataframe thead th {\n",
       "        text-align: right;\n",
       "    }\n",
       "</style>\n",
       "<table border=\"1\" class=\"dataframe\">\n",
       "  <thead>\n",
       "    <tr style=\"text-align: right;\">\n",
       "      <th></th>\n",
       "      <th>CRIM</th>\n",
       "      <th>ZN</th>\n",
       "      <th>INDUS</th>\n",
       "      <th>CHAS</th>\n",
       "      <th>NOX</th>\n",
       "      <th>RM</th>\n",
       "      <th>AGE</th>\n",
       "      <th>DIS</th>\n",
       "      <th>RAD</th>\n",
       "      <th>TAX</th>\n",
       "      <th>PTRATIO</th>\n",
       "      <th>B</th>\n",
       "      <th>LSTAT</th>\n",
       "      <th>target</th>\n",
       "    </tr>\n",
       "  </thead>\n",
       "  <tbody>\n",
       "    <tr>\n",
       "      <th>count</th>\n",
       "      <td>506.000000</td>\n",
       "      <td>506.000000</td>\n",
       "      <td>506.000000</td>\n",
       "      <td>506.000000</td>\n",
       "      <td>506.000000</td>\n",
       "      <td>506.000000</td>\n",
       "      <td>506.000000</td>\n",
       "      <td>506.000000</td>\n",
       "      <td>506.000000</td>\n",
       "      <td>506.000000</td>\n",
       "      <td>506.000000</td>\n",
       "      <td>506.000000</td>\n",
       "      <td>506.000000</td>\n",
       "      <td>506.000000</td>\n",
       "    </tr>\n",
       "    <tr>\n",
       "      <th>mean</th>\n",
       "      <td>3.613524</td>\n",
       "      <td>11.363636</td>\n",
       "      <td>11.136779</td>\n",
       "      <td>0.069170</td>\n",
       "      <td>0.554695</td>\n",
       "      <td>6.284634</td>\n",
       "      <td>68.574901</td>\n",
       "      <td>3.795043</td>\n",
       "      <td>9.549407</td>\n",
       "      <td>408.237154</td>\n",
       "      <td>18.455534</td>\n",
       "      <td>356.674032</td>\n",
       "      <td>12.653063</td>\n",
       "      <td>22.532806</td>\n",
       "    </tr>\n",
       "    <tr>\n",
       "      <th>std</th>\n",
       "      <td>8.601545</td>\n",
       "      <td>23.322453</td>\n",
       "      <td>6.860353</td>\n",
       "      <td>0.253994</td>\n",
       "      <td>0.115878</td>\n",
       "      <td>0.702617</td>\n",
       "      <td>28.148861</td>\n",
       "      <td>2.105710</td>\n",
       "      <td>8.707259</td>\n",
       "      <td>168.537116</td>\n",
       "      <td>2.164946</td>\n",
       "      <td>91.294864</td>\n",
       "      <td>7.141062</td>\n",
       "      <td>9.197104</td>\n",
       "    </tr>\n",
       "    <tr>\n",
       "      <th>min</th>\n",
       "      <td>0.006320</td>\n",
       "      <td>0.000000</td>\n",
       "      <td>0.460000</td>\n",
       "      <td>0.000000</td>\n",
       "      <td>0.385000</td>\n",
       "      <td>3.561000</td>\n",
       "      <td>2.900000</td>\n",
       "      <td>1.129600</td>\n",
       "      <td>1.000000</td>\n",
       "      <td>187.000000</td>\n",
       "      <td>12.600000</td>\n",
       "      <td>0.320000</td>\n",
       "      <td>1.730000</td>\n",
       "      <td>5.000000</td>\n",
       "    </tr>\n",
       "    <tr>\n",
       "      <th>25%</th>\n",
       "      <td>0.082045</td>\n",
       "      <td>0.000000</td>\n",
       "      <td>5.190000</td>\n",
       "      <td>0.000000</td>\n",
       "      <td>0.449000</td>\n",
       "      <td>5.885500</td>\n",
       "      <td>45.025000</td>\n",
       "      <td>2.100175</td>\n",
       "      <td>4.000000</td>\n",
       "      <td>279.000000</td>\n",
       "      <td>17.400000</td>\n",
       "      <td>375.377500</td>\n",
       "      <td>6.950000</td>\n",
       "      <td>17.025000</td>\n",
       "    </tr>\n",
       "    <tr>\n",
       "      <th>50%</th>\n",
       "      <td>0.256510</td>\n",
       "      <td>0.000000</td>\n",
       "      <td>9.690000</td>\n",
       "      <td>0.000000</td>\n",
       "      <td>0.538000</td>\n",
       "      <td>6.208500</td>\n",
       "      <td>77.500000</td>\n",
       "      <td>3.207450</td>\n",
       "      <td>5.000000</td>\n",
       "      <td>330.000000</td>\n",
       "      <td>19.050000</td>\n",
       "      <td>391.440000</td>\n",
       "      <td>11.360000</td>\n",
       "      <td>21.200000</td>\n",
       "    </tr>\n",
       "    <tr>\n",
       "      <th>75%</th>\n",
       "      <td>3.677083</td>\n",
       "      <td>12.500000</td>\n",
       "      <td>18.100000</td>\n",
       "      <td>0.000000</td>\n",
       "      <td>0.624000</td>\n",
       "      <td>6.623500</td>\n",
       "      <td>94.075000</td>\n",
       "      <td>5.188425</td>\n",
       "      <td>24.000000</td>\n",
       "      <td>666.000000</td>\n",
       "      <td>20.200000</td>\n",
       "      <td>396.225000</td>\n",
       "      <td>16.955000</td>\n",
       "      <td>25.000000</td>\n",
       "    </tr>\n",
       "    <tr>\n",
       "      <th>max</th>\n",
       "      <td>88.976200</td>\n",
       "      <td>100.000000</td>\n",
       "      <td>27.740000</td>\n",
       "      <td>1.000000</td>\n",
       "      <td>0.871000</td>\n",
       "      <td>8.780000</td>\n",
       "      <td>100.000000</td>\n",
       "      <td>12.126500</td>\n",
       "      <td>24.000000</td>\n",
       "      <td>711.000000</td>\n",
       "      <td>22.000000</td>\n",
       "      <td>396.900000</td>\n",
       "      <td>37.970000</td>\n",
       "      <td>50.000000</td>\n",
       "    </tr>\n",
       "  </tbody>\n",
       "</table>\n",
       "</div>"
      ],
      "text/plain": [
       "             CRIM          ZN       INDUS        CHAS         NOX          RM  \\\n",
       "count  506.000000  506.000000  506.000000  506.000000  506.000000  506.000000   \n",
       "mean     3.613524   11.363636   11.136779    0.069170    0.554695    6.284634   \n",
       "std      8.601545   23.322453    6.860353    0.253994    0.115878    0.702617   \n",
       "min      0.006320    0.000000    0.460000    0.000000    0.385000    3.561000   \n",
       "25%      0.082045    0.000000    5.190000    0.000000    0.449000    5.885500   \n",
       "50%      0.256510    0.000000    9.690000    0.000000    0.538000    6.208500   \n",
       "75%      3.677083   12.500000   18.100000    0.000000    0.624000    6.623500   \n",
       "max     88.976200  100.000000   27.740000    1.000000    0.871000    8.780000   \n",
       "\n",
       "              AGE         DIS         RAD         TAX     PTRATIO           B  \\\n",
       "count  506.000000  506.000000  506.000000  506.000000  506.000000  506.000000   \n",
       "mean    68.574901    3.795043    9.549407  408.237154   18.455534  356.674032   \n",
       "std     28.148861    2.105710    8.707259  168.537116    2.164946   91.294864   \n",
       "min      2.900000    1.129600    1.000000  187.000000   12.600000    0.320000   \n",
       "25%     45.025000    2.100175    4.000000  279.000000   17.400000  375.377500   \n",
       "50%     77.500000    3.207450    5.000000  330.000000   19.050000  391.440000   \n",
       "75%     94.075000    5.188425   24.000000  666.000000   20.200000  396.225000   \n",
       "max    100.000000   12.126500   24.000000  711.000000   22.000000  396.900000   \n",
       "\n",
       "            LSTAT      target  \n",
       "count  506.000000  506.000000  \n",
       "mean    12.653063   22.532806  \n",
       "std      7.141062    9.197104  \n",
       "min      1.730000    5.000000  \n",
       "25%      6.950000   17.025000  \n",
       "50%     11.360000   21.200000  \n",
       "75%     16.955000   25.000000  \n",
       "max     37.970000   50.000000  "
      ]
     },
     "execution_count": 35,
     "metadata": {},
     "output_type": "execute_result"
    }
   ],
   "source": [
    "# Rename the column MEDV to target:\n",
    "boston_df.rename(columns={'MEDV':'target'}, inplace=True)\n",
    "boston_df.describe()"
   ]
  },
  {
   "cell_type": "markdown",
   "metadata": {},
   "source": [
    "### Linear regression in scikit-learn\n",
    "\n",
    "Now let's fit a linear model for predicting a suburbs median house value given the other features."
   ]
  },
  {
   "cell_type": "code",
   "execution_count": 36,
   "metadata": {},
   "outputs": [
    {
     "name": "stdout",
     "output_type": "stream",
     "text": [
      "Intercept: 32.8589326340859\n",
      "Coefficients:\n",
      " [-1.56381297e-01  3.85490972e-02 -2.50629921e-02  7.86439684e-01\n",
      " -1.29469121e+01  4.00268857e+00 -1.16023395e-02 -1.36828811e+00\n",
      "  3.41756915e-01 -1.35148823e-02 -9.88866034e-01  1.20588215e-02\n",
      " -4.72644280e-01]\n",
      "\n",
      "R-squared: 0.7551332741779998\n",
      "\n",
      "R-squared: 0.7551332741779998\n",
      "\n",
      "Predicted price of first five neighbourhoods from test split:\n",
      " [37.46723562 31.39154701 27.1201962   6.46843347 33.62966737]\n",
      "\n",
      "R-squared: 0.7551332741779998\n",
      "\n",
      "Standard error: 4.421171617742821\n"
     ]
    }
   ],
   "source": [
    "from sklearn.model_selection import train_test_split\n",
    "from sklearn.linear_model import LinearRegression\n",
    "import math\n",
    "import numpy as np\n",
    "\n",
    "# First let's create a train and test split\n",
    "X_train, X_test, Y_train, Y_test = train_test_split(boston_data, boston_target, test_size=0.33,\n",
    "                                                    random_state=5) # so we get the same results\n",
    "\n",
    "# Now let's fit a model\n",
    "lm = LinearRegression()\n",
    "_ = lm.fit(X_train, Y_train)\n",
    "\n",
    "print('Intercept:', lm.intercept_)\n",
    "print('Coefficients:\\n', lm.coef_)\n",
    "print('\\nR-squared:', lm.score(X_train, Y_train))\n",
    "\n",
    "# We use the score method to get r-squared\n",
    "print('\\nR-squared:', lm.score(X_train, Y_train))\n",
    "\n",
    "# We can predict the median price for a new neighbourhoods\n",
    "print('\\nPredicted price of first five neighbourhoods from test split:\\n', lm.predict(X_test)[:5])\n",
    "\n",
    "# We use the score method to get r-squared\n",
    "print('\\nR-squared:', lm.score(X_train, Y_train))\n",
    "\n",
    "# We can also calculate the standard error\n",
    "stderr = math.sqrt(np.mean((Y_train - lm.predict(X_train))**2))\n",
    "print('\\nStandard error:', stderr)"
   ]
  },
  {
   "cell_type": "markdown",
   "metadata": {},
   "source": [
    "### TODO Evaluating predictions \n",
    "\n",
    "- Does r_squared indicate a good fit?\n",
    "- Use `mean_squared_error` from `sklearn.metrics` to calculate standard error. Compare this to the value we calculated in the previous cell.\n",
    "- According to the 95% prediction interval, how close will our predictions be to the actual value? What if we calculate over the test data instead?\n",
    "\n",
    "[Residual plots](http://docs.statwing.com/interpreting-residual-plots-to-improve-your-regression/) scatter residuals (y_true - y_predicted) on the y-axis versus predicted values on the x-axis. A residual plot indicates that a linear model is appropriate if the points are randomly distributed around the `y=0` line.\n",
    "\n",
    "- Draw a residual plot with training data in blue and test data in green. Is a linear model appropriate for our data? Is prediction performance comparable to training performance?"
   ]
  },
  {
   "cell_type": "code",
   "execution_count": 37,
   "metadata": {},
   "outputs": [
    {
     "name": "stdout",
     "output_type": "stream",
     "text": [
      "Standard error: 4.421171617742821\n",
      "Standard error using sklearn.metrics: 4.421171617742821\n",
      "\n",
      "Predictions should be within 8.8k dollars at 95% confidence according to training data.\n",
      "Predictions should be within 10.7k dollars at 95% confidence according to test data.\n",
      "\n",
      "Residual plot for training data (blue) and test data (green):\n"
     ]
    },
    {
     "data": {
      "image/png": "[encoded data removed]",
      "text/plain": [
       "<Figure size 640x480 with 1 Axes>"
      ]
     },
     "metadata": {},
     "output_type": "display_data"
    }
   ],
   "source": [
    "# TODO: replace the content of this cell with your solution\n",
    "\n",
    "# 1 - Yes, r_squared indicates that our model explains the data reasonable well.\n",
    "#     But we should look at standard error as well (page 183 of Data Science from Scratch).\n",
    "\n",
    "# 2 - \n",
    "from sklearn.metrics import mean_squared_error\n",
    "se1 = math.sqrt(np.mean((Y_train - lm.predict(X_train))**2))\n",
    "print('Standard error:', se1)\n",
    "se2 = math.sqrt(mean_squared_error(Y_train, lm.predict(X_train)))\n",
    "print('Standard error using sklearn.metrics:', se2)\n",
    "\n",
    "# 3 - Note we have a fairly small data set (339 in training, 167 in test).\n",
    "#     So this value will vary depending on our split. \n",
    "print('\\nPredictions should be within {:.1f}k dollars at 95% confidence according to training data.'.format(2*se2))\n",
    "se_test = math.sqrt(mean_squared_error(Y_test, lm.predict(X_test)))\n",
    "print('Predictions should be within {:.1f}k dollars at 95% confidence according to test data.'.format(2*se_test))\n",
    "\n",
    "# 4 - Yes the linear model is appropriate\n",
    "print('\\nResidual plot for training data (blue) and test data (green):')\n",
    "_ = plt.scatter(lm.predict(X_train), Y_train-lm.predict(X_train), c='blue', s=40, alpha=0.5, edgecolor='white')\n",
    "_ = plt.scatter(lm.predict(X_test), Y_test-lm.predict(X_test), c='green', s=40, alpha=0.5, edgecolor='white')\n",
    "_ = plt.plot([-10,50], [0,0], c='black')\n",
    "_ = plt.ylabel('Residuals ($y - \\hat{y}$)')\n",
    "_ = plt.xlabel('Predicted values ($\\hat{y}$)')"
   ]
  },
  {
   "cell_type": "markdown",
   "metadata": {},
   "source": [
    "## EXERCISE 3: Logistic regression\n",
    "\n",
    "\n",
    "\n",
    "We'll use the Iris data set. Like the digits data from week 7, this is another classic machine learning data set.\n",
    "\n",
    "### Loading and visualising data\n",
    "\n",
    "Let's load the data and have a quick look at some descriptive stats for our features."
   ]
  },
  {
   "cell_type": "code",
   "execution_count": 21,
   "metadata": {},
   "outputs": [
    {
     "name": "stdout",
     "output_type": "stream",
     "text": [
      ".. _iris_dataset:\n",
      "\n",
      "Iris plants dataset\n",
      "--------------------\n",
      "\n",
      "**Data Set Characteristics:**\n",
      "\n",
      "    :Number of Instances: 150 (50 in each of three classes)\n",
      "    :Number of Attributes: 4 numeric, predictive attributes and the class\n",
      "    :Attribute Information:\n",
      "        - sepal length in cm\n",
      "        - sepal width in cm\n",
      "        - petal length in cm\n",
      "        - petal width in cm\n",
      "        - class:\n",
      "                - Iris-Setosa\n",
      "                - Iris-Versicolour\n",
      "                - Iris-Virginica\n",
      "                \n",
      "    :Summary Statistics:\n",
      "\n",
      "    ============== ==== ==== ======= ===== ====================\n",
      "                    Min  Max   Mean    SD   Class Correlation\n",
      "    ============== ==== ==== ======= ===== ====================\n",
      "    sepal length:   4.3  7.9   5.84   0.83    0.7826\n",
      "    sepal width:    2.0  4.4   3.05   0.43   -0.4194\n",
      "    petal length:   1.0  6.9   3.76   1.76    0.9490  (high!)\n",
      "    petal width:    0.1  2.5   1.20   0.76    0.9565  (high!)\n",
      "    ============== ==== ==== ======= ===== ====================\n",
      "\n",
      "    :Missing Attribute Values: None\n",
      "    :Class Distribution: 33.3% for each of 3 classes.\n",
      "    :Creator: R.A. Fisher\n",
      "    :Donor: Michael Marshall (MARSHALL%PLU@io.arc.nasa.gov)\n",
      "    :Date: July, 1988\n",
      "\n",
      "The famous Iris database, first used by Sir R.A. Fisher. The dataset is taken\n",
      "from Fisher's paper. Note that it's the same as in R, but not as in the UCI\n",
      "Machine Learning Repository, which has two wrong data points.\n",
      "\n",
      "This is perhaps the best known database to be found in the\n",
      "pattern recognition literature.  Fisher's paper is a classic in the field and\n",
      "is referenced frequently to this day.  (See Duda & Hart, for example.)  The\n",
      "data set contains 3 classes of 50 instances each, where each class refers to a\n",
      "type of iris plant.  One class is linearly separable from the other 2; the\n",
      "latter are NOT linearly separable from each other.\n",
      "\n",
      ".. topic:: References\n",
      "\n",
      "   - Fisher, R.A. \"The use of multiple measurements in taxonomic problems\"\n",
      "     Annual Eugenics, 7, Part II, 179-188 (1936); also in \"Contributions to\n",
      "     Mathematical Statistics\" (John Wiley, NY, 1950).\n",
      "   - Duda, R.O., & Hart, P.E. (1973) Pattern Classification and Scene Analysis.\n",
      "     (Q327.D83) John Wiley & Sons.  ISBN 0-471-22361-1.  See page 218.\n",
      "   - Dasarathy, B.V. (1980) \"Nosing Around the Neighborhood: A New System\n",
      "     Structure and Classification Rule for Recognition in Partially Exposed\n",
      "     Environments\".  IEEE Transactions on Pattern Analysis and Machine\n",
      "     Intelligence, Vol. PAMI-2, No. 1, 67-71.\n",
      "   - Gates, G.W. (1972) \"The Reduced Nearest Neighbor Rule\".  IEEE Transactions\n",
      "     on Information Theory, May 1972, 431-433.\n",
      "   - See also: 1988 MLC Proceedings, 54-64.  Cheeseman et al\"s AUTOCLASS II\n",
      "     conceptual clustering system finds 3 classes in the data.\n",
      "   - Many, many more ...\n"
     ]
    }
   ],
   "source": [
    "from sklearn.datasets import load_iris\n",
    "iris = load_iris()\n",
    "print(iris.DESCR)"
   ]
  },
  {
   "cell_type": "code",
   "execution_count": 22,
   "metadata": {},
   "outputs": [
    {
     "name": "stdout",
     "output_type": "stream",
     "text": [
      "Descriptive stats for feature values:\n",
      "---------------------------------------------------------------------------\n",
      "Name                        Min        Max       Mean      Stdev     Median\n",
      "---------------------------------------------------------------------------\n",
      "sepal length (cm)          4.30       7.90       5.84       0.83       5.80\n",
      "sepal width (cm)           2.00       4.40       3.06       0.43       3.00\n",
      "petal length (cm)          1.00       6.90       3.76       1.76       4.35\n",
      "petal width (cm)           0.10       2.50       1.20       0.76       1.30\n",
      "---------------------------------------------------------------------------\n",
      "\n",
      "Boxplots of feature values:\n"
     ]
    },
    {
     "data": {
      "image/png": "[encoded data removed]",
      "text/plain": [
       "<Figure size 640x480 with 1 Axes>"
      ]
     },
     "metadata": {},
     "output_type": "display_data"
    }
   ],
   "source": [
    "%matplotlib inline\n",
    "import matplotlib.pyplot as plt\n",
    "import numpy as np\n",
    "\n",
    "def cols_from_rows(data):\n",
    "    cols = [[] for _ in data[0]] # init with empty list for each column\n",
    "    for row in data:\n",
    "        for i, val in enumerate(row):\n",
    "            cols[i].append(val)\n",
    "    return cols\n",
    "\n",
    "print('Descriptive stats for feature values:')\n",
    "cols = cols_from_rows(iris.data)\n",
    "print('-'*75)\n",
    "print('{:20} {:>10} {:>10} {:>10} {:>10} {:>10}'.format('Name', 'Min', 'Max', 'Mean', 'Stdev', 'Median'))\n",
    "print('-'*75)\n",
    "for i, col in enumerate(cols):\n",
    "    print('{:20} {:10.2f} {:10.2f} {:10.2f} {:10.2f} {:10.2f}'\\\n",
    "          .format(iris.feature_names[i], min(col), max(col), np.mean(col), np.std(col), np.median(col)))\n",
    "print('-'*75)\n",
    "    \n",
    "print('\\nBoxplots of feature values:')\n",
    "_ = plt.boxplot(cols_from_rows(iris.data), vert=False, notch=True, flierprops={'marker':'.'})\n",
    "_ = plt.yticks(range(1,5), iris.feature_names)"
   ]
  },
  {
   "cell_type": "markdown",
   "metadata": {},
   "source": [
    "### Logistic regression in scikit-learn\n",
    "\n",
    "Now let's use logistic regression to learn a model of iris type given sepal and petal measurements."
   ]
  },
  {
   "cell_type": "code",
   "execution_count": 23,
   "metadata": {},
   "outputs": [],
   "source": [
    "from sklearn.model_selection import train_test_split\n",
    "from sklearn.linear_model import LogisticRegression\n",
    "\n",
    "# First let's create a train and test split\n",
    "X_train, X_test, Y_train, Y_test = train_test_split(iris.data, iris.target, test_size=0.33,\n",
    "                                                    random_state=5) # so we get the same results\n",
    "\n",
    "# Now let's fit a model\n",
    "logreg = LogisticRegression()\n",
    "_ = logreg.fit(X_train, Y_train)"
   ]
  },
  {
   "cell_type": "code",
   "execution_count": 24,
   "metadata": {},
   "outputs": [
    {
     "name": "stdout",
     "output_type": "stream",
     "text": [
      "Intercept: [  8.77541301   1.60989219 -10.38530519]\n",
      "Coefficients:\n",
      " [[-0.40882379  0.8471058  -2.20548191 -0.96488141]\n",
      " [ 0.60527175 -0.44107978 -0.16035026 -0.8906139 ]\n",
      " [-0.19644796 -0.40602602  2.36583217  1.85549531]]\n"
     ]
    }
   ],
   "source": [
    "print('Intercept:', logreg.intercept_)\n",
    "print('Coefficients:\\n', logreg.coef_)"
   ]
  },
  {
   "cell_type": "code",
   "execution_count": 25,
   "metadata": {},
   "outputs": [
    {
     "name": "stdout",
     "output_type": "stream",
     "text": [
      "\n",
      "Predicted type of first five organisms from test split: [1 2 2 0 2]\n",
      "Actual type of first five organisms from test split: [1 2 2 0 2]\n"
     ]
    }
   ],
   "source": [
    "# We can predict the type of new organisms given measurements\n",
    "print('\\nPredicted type of first five organisms from test split:', logreg.predict(X_test)[:5])\n",
    "print('Actual type of first five organisms from test split:', Y_test[:5])"
   ]
  },
  {
   "cell_type": "markdown",
   "metadata": {},
   "source": [
    "### Evaluating classification\n",
    "\n",
    "Recall from previous lectures that `sklearn.metrics` includes various evaluation measures. "
   ]
  },
  {
   "cell_type": "code",
   "execution_count": 26,
   "metadata": {},
   "outputs": [
    {
     "name": "stdout",
     "output_type": "stream",
     "text": [
      "Classification report (0=setosa, 1=versicolor, 2=virginica):\n",
      "\n",
      "              precision    recall  f1-score   support\n",
      "\n",
      "           0       1.00      1.00      1.00        16\n",
      "           1       1.00      0.94      0.97        17\n",
      "           2       0.94      1.00      0.97        17\n",
      "\n",
      "    accuracy                           0.98        50\n",
      "   macro avg       0.98      0.98      0.98        50\n",
      "weighted avg       0.98      0.98      0.98        50\n",
      "\n"
     ]
    }
   ],
   "source": [
    "from sklearn.metrics import classification_report\n",
    "import pandas as pd\n",
    "key=', '.join(['{}={}'.format(i,name) for i,name in enumerate(iris.target_names)])\n",
    "print('Classification report ({}):\\n'.format(key))\n",
    "print(classification_report(Y_test, logreg.predict(X_test)))"
   ]
  },
  {
   "cell_type": "code",
   "execution_count": 27,
   "metadata": {},
   "outputs": [
    {
     "name": "stdout",
     "output_type": "stream",
     "text": [
      "Predicted   0   1   2\n",
      "Actual               \n",
      "0          16   0   0\n",
      "1           0  16   1\n",
      "2           0   0  17\n"
     ]
    }
   ],
   "source": [
    "y_actu = pd.Series(Y_test, name='Actual')\n",
    "y_pred_s1 = pd.Series(logreg.predict(X_test), name='Predicted')\n",
    "confusion_matrix = pd.crosstab(y_actu, y_pred_s1)\n",
    "print(confusion_matrix)"
   ]
  },
  {
   "cell_type": "code",
   "execution_count": 28,
   "metadata": {},
   "outputs": [
    {
     "name": "stdout",
     "output_type": "stream",
     "text": [
      "Confusion matrix (0=setosa, 1=versicolor, 2=virginica):\n",
      "\n"
     ]
    },
    {
     "data": {
      "image/png": "[encoded data removed]",
      "text/plain": [
       "<Figure size 480x480 with 2 Axes>"
      ]
     },
     "metadata": {},
     "output_type": "display_data"
    }
   ],
   "source": [
    "%matplotlib inline\n",
    "from sklearn.metrics import confusion_matrix\n",
    "import matplotlib.pyplot as plt\n",
    "\n",
    "print('Confusion matrix ({}):\\n'.format(key))\n",
    "_ = plt.matshow(confusion_matrix(Y_test, logreg.predict(X_test) ), cmap=plt.cm.binary, interpolation='nearest')\n",
    "_ = plt.colorbar()\n",
    "_ = plt.ylabel('true label')\n",
    "_ = plt.xlabel('predicted label')\n"
   ]
  },
  {
   "cell_type": "markdown",
   "metadata": {},
   "source": [
    "### TODO Choose parameters using grid search\n",
    "\n",
    "\n",
    "- Choose the best C values in [1, 10, 100, 1000, 10000, 100000, 1000000] and the best penalty in ['l1', 'l2']\n",
    "- Which is the best C? Which is the best penalty?\n",
    "- How do precision, recall and f1 scores compare?"
   ]
  },
  {
   "cell_type": "code",
   "execution_count": 29,
   "metadata": {
    "scrolled": true
   },
   "outputs": [
    {
     "data": {
      "text/html": [
       "<style>#sk-container-id-1 {color: black;background-color: white;}#sk-container-id-1 pre{padding: 0;}#sk-container-id-1 div.sk-toggleable {background-color: white;}#sk-container-id-1 label.sk-toggleable__label {cursor: pointer;display: block;width: 100%;margin-bottom: 0;padding: 0.3em;box-sizing: border-box;text-align: center;}#sk-container-id-1 label.sk-toggleable__label-arrow:before {content: \"▸\";float: left;margin-right: 0.25em;color: #696969;}#sk-container-id-1 label.sk-toggleable__label-arrow:hover:before {color: black;}#sk-container-id-1 div.sk-estimator:hover label.sk-toggleable__label-arrow:before {color: black;}#sk-container-id-1 div.sk-toggleable__content {max-height: 0;max-width: 0;overflow: hidden;text-align: left;background-color: #f0f8ff;}#sk-container-id-1 div.sk-toggleable__content pre {margin: 0.2em;color: black;border-radius: 0.25em;background-color: #f0f8ff;}#sk-container-id-1 input.sk-toggleable__control:checked~div.sk-toggleable__content {max-height: 200px;max-width: 100%;overflow: auto;}#sk-container-id-1 input.sk-toggleable__control:checked~label.sk-toggleable__label-arrow:before {content: \"▾\";}#sk-container-id-1 div.sk-estimator input.sk-toggleable__control:checked~label.sk-toggleable__label {background-color: #d4ebff;}#sk-container-id-1 div.sk-label input.sk-toggleable__control:checked~label.sk-toggleable__label {background-color: #d4ebff;}#sk-container-id-1 input.sk-hidden--visually {border: 0;clip: rect(1px 1px 1px 1px);clip: rect(1px, 1px, 1px, 1px);height: 1px;margin: -1px;overflow: hidden;padding: 0;position: absolute;width: 1px;}#sk-container-id-1 div.sk-estimator {font-family: monospace;background-color: #f0f8ff;border: 1px dotted black;border-radius: 0.25em;box-sizing: border-box;margin-bottom: 0.5em;}#sk-container-id-1 div.sk-estimator:hover {background-color: #d4ebff;}#sk-container-id-1 div.sk-parallel-item::after {content: \"\";width: 100%;border-bottom: 1px solid gray;flex-grow: 1;}#sk-container-id-1 div.sk-label:hover label.sk-toggleable__label {background-color: #d4ebff;}#sk-container-id-1 div.sk-serial::before {content: \"\";position: absolute;border-left: 1px solid gray;box-sizing: border-box;top: 0;bottom: 0;left: 50%;z-index: 0;}#sk-container-id-1 div.sk-serial {display: flex;flex-direction: column;align-items: center;background-color: white;padding-right: 0.2em;padding-left: 0.2em;position: relative;}#sk-container-id-1 div.sk-item {position: relative;z-index: 1;}#sk-container-id-1 div.sk-parallel {display: flex;align-items: stretch;justify-content: center;background-color: white;position: relative;}#sk-container-id-1 div.sk-item::before, #sk-container-id-1 div.sk-parallel-item::before {content: \"\";position: absolute;border-left: 1px solid gray;box-sizing: border-box;top: 0;bottom: 0;left: 50%;z-index: -1;}#sk-container-id-1 div.sk-parallel-item {display: flex;flex-direction: column;z-index: 1;position: relative;background-color: white;}#sk-container-id-1 div.sk-parallel-item:first-child::after {align-self: flex-end;width: 50%;}#sk-container-id-1 div.sk-parallel-item:last-child::after {align-self: flex-start;width: 50%;}#sk-container-id-1 div.sk-parallel-item:only-child::after {width: 0;}#sk-container-id-1 div.sk-dashed-wrapped {border: 1px dashed gray;margin: 0 0.4em 0.5em 0.4em;box-sizing: border-box;padding-bottom: 0.4em;background-color: white;}#sk-container-id-1 div.sk-label label {font-family: monospace;font-weight: bold;display: inline-block;line-height: 1.2em;}#sk-container-id-1 div.sk-label-container {text-align: center;}#sk-container-id-1 div.sk-container {/* jupyter's `normalize.less` sets `[hidden] { display: none; }` but bootstrap.min.css set `[hidden] { display: none !important; }` so we also need the `!important` here to be able to override the default hidden behavior on the sphinx rendered scikit-learn.org. See: https://github.com/scikit-learn/scikit-learn/issues/21755 */display: inline-block !important;position: relative;}#sk-container-id-1 div.sk-text-repr-fallback {display: none;}</style><div id=\"sk-container-id-1\" class=\"sk-top-container\"><div class=\"sk-text-repr-fallback\"><pre>GridSearchCV(estimator=LogisticRegression(),\n",
       "             param_grid=[{&#x27;C&#x27;: [1, 10, 100, 1000, 10000.0, 100000.0, 1000000.0,\n",
       "                                10000000.0],\n",
       "                          &#x27;penalty&#x27;: [&#x27;l1&#x27;, &#x27;l2&#x27;]}])</pre><b>In a Jupyter environment, please rerun this cell to show the HTML representation or trust the notebook. <br />On GitHub, the HTML representation is unable to render, please try loading this page with nbviewer.org.</b></div><div class=\"sk-container\" hidden><div class=\"sk-item sk-dashed-wrapped\"><div class=\"sk-label-container\"><div class=\"sk-label sk-toggleable\"><input class=\"sk-toggleable__control sk-hidden--visually\" id=\"sk-estimator-id-1\" type=\"checkbox\" ><label for=\"sk-estimator-id-1\" class=\"sk-toggleable__label sk-toggleable__label-arrow\">GridSearchCV</label><div class=\"sk-toggleable__content\"><pre>GridSearchCV(estimator=LogisticRegression(),\n",
       "             param_grid=[{&#x27;C&#x27;: [1, 10, 100, 1000, 10000.0, 100000.0, 1000000.0,\n",
       "                                10000000.0],\n",
       "                          &#x27;penalty&#x27;: [&#x27;l1&#x27;, &#x27;l2&#x27;]}])</pre></div></div></div><div class=\"sk-parallel\"><div class=\"sk-parallel-item\"><div class=\"sk-item\"><div class=\"sk-label-container\"><div class=\"sk-label sk-toggleable\"><input class=\"sk-toggleable__control sk-hidden--visually\" id=\"sk-estimator-id-2\" type=\"checkbox\" ><label for=\"sk-estimator-id-2\" class=\"sk-toggleable__label sk-toggleable__label-arrow\">estimator: LogisticRegression</label><div class=\"sk-toggleable__content\"><pre>LogisticRegression()</pre></div></div></div><div class=\"sk-serial\"><div class=\"sk-item\"><div class=\"sk-estimator sk-toggleable\"><input class=\"sk-toggleable__control sk-hidden--visually\" id=\"sk-estimator-id-3\" type=\"checkbox\" ><label for=\"sk-estimator-id-3\" class=\"sk-toggleable__label sk-toggleable__label-arrow\">LogisticRegression</label><div class=\"sk-toggleable__content\"><pre>LogisticRegression()</pre></div></div></div></div></div></div></div></div></div></div>"
      ],
      "text/plain": [
       "GridSearchCV(estimator=LogisticRegression(),\n",
       "             param_grid=[{'C': [1, 10, 100, 1000, 10000.0, 100000.0, 1000000.0,\n",
       "                                10000000.0],\n",
       "                          'penalty': ['l1', 'l2']}])"
      ]
     },
     "execution_count": 29,
     "metadata": {},
     "output_type": "execute_result"
    }
   ],
   "source": [
    "# TODO: replace the content of this cell with your solution\n",
    "from sklearn.model_selection import GridSearchCV\n",
    "import warnings\n",
    "warnings.filterwarnings('ignore')\n",
    "\n",
    "# Perform grid search\n",
    "param_grid = [\n",
    "    {'C': [1, 10, 100, 1000, 1e4, 1e5, 1e6, 1e7], \n",
    "     'penalty': ['l1', 'l2']\n",
    "    }\n",
    "]\n",
    "logreg = GridSearchCV(LogisticRegression(), param_grid)\n",
    "logreg.fit(X_train, Y_train)"
   ]
  },
  {
   "cell_type": "code",
   "execution_count": 30,
   "metadata": {},
   "outputs": [
    {
     "name": "stdout",
     "output_type": "stream",
     "text": [
      "Grid search mean and stdev:\n",
      "\n",
      "nan for {'C': 1, 'penalty': 'l1'}\n",
      "0.970 for {'C': 1, 'penalty': 'l2'}\n",
      "nan for {'C': 10, 'penalty': 'l1'}\n",
      "0.980 for {'C': 10, 'penalty': 'l2'}\n",
      "nan for {'C': 100, 'penalty': 'l1'}\n",
      "0.980 for {'C': 100, 'penalty': 'l2'}\n",
      "nan for {'C': 1000, 'penalty': 'l1'}\n",
      "0.980 for {'C': 1000, 'penalty': 'l2'}\n",
      "nan for {'C': 10000.0, 'penalty': 'l1'}\n",
      "0.980 for {'C': 10000.0, 'penalty': 'l2'}\n",
      "nan for {'C': 100000.0, 'penalty': 'l1'}\n",
      "0.980 for {'C': 100000.0, 'penalty': 'l2'}\n",
      "nan for {'C': 1000000.0, 'penalty': 'l1'}\n",
      "0.980 for {'C': 1000000.0, 'penalty': 'l2'}\n",
      "nan for {'C': 10000000.0, 'penalty': 'l1'}\n",
      "0.970 for {'C': 10000000.0, 'penalty': 'l2'}\n"
     ]
    }
   ],
   "source": [
    "# Print grid search results\n",
    "print('Grid search mean and stdev:\\n')\n",
    "scoring = logreg.cv_results_\n",
    "for mean_score, params in zip(scoring['mean_test_score'], scoring['params']):\n",
    "    print(\"{:0.3f} for {}\".format(mean_score, params))"
   ]
  },
  {
   "cell_type": "code",
   "execution_count": 31,
   "metadata": {},
   "outputs": [
    {
     "name": "stdout",
     "output_type": "stream",
     "text": [
      "\n",
      "Best parameters: {'C': 10, 'penalty': 'l2'}\n"
     ]
    }
   ],
   "source": [
    "# Print best params\n",
    "print('\\nBest parameters:', logreg.best_params_)"
   ]
  },
  {
   "cell_type": "code",
   "execution_count": 32,
   "metadata": {
    "scrolled": true
   },
   "outputs": [
    {
     "name": "stdout",
     "output_type": "stream",
     "text": [
      "\n",
      "Classification report (0=setosa, 1=versicolor, 2=virginica):\n",
      "\n",
      "              precision    recall  f1-score   support\n",
      "\n",
      "           0       1.00      1.00      1.00        16\n",
      "           1       0.94      0.94      0.94        17\n",
      "           2       0.94      0.94      0.94        17\n",
      "\n",
      "    accuracy                           0.96        50\n",
      "   macro avg       0.96      0.96      0.96        50\n",
      "weighted avg       0.96      0.96      0.96        50\n",
      "\n"
     ]
    }
   ],
   "source": [
    "print('\\nClassification report ({}):\\n'.format(key))\n",
    "print(classification_report(Y_test, logreg.predict(X_test)))"
   ]
  }
 ],
 "metadata": {
  "kernelspec": {
   "display_name": "Python 3 (ipykernel)",
   "language": "python",
   "name": "python3"
  },
  "language_info": {
   "codemirror_mode": {
    "name": "ipython",
    "version": 3
   },
   "file_extension": ".py",
   "mimetype": "text/x-python",
   "name": "python",
   "nbconvert_exporter": "python",
   "pygments_lexer": "ipython3",
   "version": "3.8.13"
  }
 },
 "nbformat": 4,
 "nbformat_minor": 1
}
