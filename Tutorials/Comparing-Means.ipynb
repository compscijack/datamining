{
 "cells": [
  {
   "cell_type": "markdown",
   "metadata": {},
   "source": [
    "# Statistics (Part II): Comparing means\n",
    "Solutions to the excercises."
   ]
  },
  {
   "cell_type": "code",
   "execution_count": 1,
   "metadata": {},
   "outputs": [],
   "source": [
    "# Import necessary packages\n",
    "import numpy as np\n",
    "import pandas as pd\n",
    "from collections import Counter\n",
    "from scipy import stats\n",
    "import seaborn as sns\n",
    "import matplotlib.pyplot as plt\n",
    "import matplotlib.patches as mpatches\n",
    "%matplotlib inline"
   ]
  },
  {
   "cell_type": "markdown",
   "metadata": {
    "collapsed": true
   },
   "source": [
    "## EXERCISE 1: Comparing layouts\n",
    "\n",
    "### Experimental setup\n",
    "\n",
    "*Problem*: Find out which version of a display is better.\n",
    "\n",
    "*Question*: Do users prefer grid view?\n",
    "\n",
    "*Null hypothesis*: Users do not prefer grid view."
   ]
  },
  {
   "cell_type": "markdown",
   "metadata": {},
   "source": [
    "### Create ratings data\n",
    "\n",
    "We assume different subject groups for each conditions. Each subject sees one of the layouts and is asked to rate on a 5-point Likert scale how strongly the agree or disagree with the statement:\n",
    "\n",
    "> Page gives a good overview.\n",
    "> \n",
    "> 1=strongly agree; 2=agree; 3=neutral; 4=disagree; 5=strongly disagree\n",
    "\n",
    "G_data corresponds to ratings from users that see the grid view. L_data corresponds to ratings from users that see the list view."
   ]
  },
  {
   "cell_type": "code",
   "execution_count": 2,
   "metadata": {},
   "outputs": [
    {
     "name": "stdout",
     "output_type": "stream",
     "text": [
      "Grid median: 2.5\n",
      "List median: 4.0\n"
     ]
    }
   ],
   "source": [
    "G_data = [1, 3, 3, 2, 4, 2, 3, 3, 1, 5, 2, 3, 4, 2, 1, 3, 2, 2, 1, 3,\n",
    "          2, 3, 4, 2, 1, 3, 2, 2, 1, 3, 1, 3, 3, 2, 4, 2, 3, 3, 1, 5]\n",
    "L_data = [4, 5, 2, 4, 4, 3, 5, 4, 3, 5, 1, 4, 5, 3, 4, 4, 2, 3, 4, 5,\n",
    "          1, 4, 5, 3, 4, 4, 2, 3, 4, 5, 4, 5, 2, 4, 4, 3, 5, 4, 3, 5]\n",
    "print('Grid median:', np.median(G_data))\n",
    "print('List median:', np.median(L_data))"
   ]
  },
  {
   "cell_type": "code",
   "execution_count": 3,
   "metadata": {},
   "outputs": [
    {
     "data": {
      "text/html": [
       "<div>\n",
       "<style scoped>\n",
       "    .dataframe tbody tr th:only-of-type {\n",
       "        vertical-align: middle;\n",
       "    }\n",
       "\n",
       "    .dataframe tbody tr th {\n",
       "        vertical-align: top;\n",
       "    }\n",
       "\n",
       "    .dataframe thead th {\n",
       "        text-align: right;\n",
       "    }\n",
       "</style>\n",
       "<table border=\"1\" class=\"dataframe\">\n",
       "  <thead>\n",
       "    <tr style=\"text-align: right;\">\n",
       "      <th></th>\n",
       "      <th>Grid</th>\n",
       "      <th>List</th>\n",
       "    </tr>\n",
       "  </thead>\n",
       "  <tbody>\n",
       "    <tr>\n",
       "      <th>0</th>\n",
       "      <td>1</td>\n",
       "      <td>4</td>\n",
       "    </tr>\n",
       "    <tr>\n",
       "      <th>1</th>\n",
       "      <td>3</td>\n",
       "      <td>5</td>\n",
       "    </tr>\n",
       "    <tr>\n",
       "      <th>2</th>\n",
       "      <td>3</td>\n",
       "      <td>2</td>\n",
       "    </tr>\n",
       "    <tr>\n",
       "      <th>3</th>\n",
       "      <td>2</td>\n",
       "      <td>4</td>\n",
       "    </tr>\n",
       "    <tr>\n",
       "      <th>4</th>\n",
       "      <td>4</td>\n",
       "      <td>4</td>\n",
       "    </tr>\n",
       "  </tbody>\n",
       "</table>\n",
       "</div>"
      ],
      "text/plain": [
       "   Grid  List\n",
       "0     1     4\n",
       "1     3     5\n",
       "2     3     2\n",
       "3     2     4\n",
       "4     4     4"
      ]
     },
     "execution_count": 3,
     "metadata": {},
     "output_type": "execute_result"
    }
   ],
   "source": [
    "# Create a dataframe from G_data and L_data\n",
    "layout_data = pd.DataFrame({'Grid': G_data, 'List': L_data})\n",
    "layout_data.head()"
   ]
  },
  {
   "cell_type": "markdown",
   "metadata": {},
   "source": [
    "### Visualise ratings data"
   ]
  },
  {
   "cell_type": "code",
   "execution_count": 4,
   "metadata": {},
   "outputs": [
    {
     "data": {
      "text/html": [
       "<div>\n",
       "<style scoped>\n",
       "    .dataframe tbody tr th:only-of-type {\n",
       "        vertical-align: middle;\n",
       "    }\n",
       "\n",
       "    .dataframe tbody tr th {\n",
       "        vertical-align: top;\n",
       "    }\n",
       "\n",
       "    .dataframe thead th {\n",
       "        text-align: right;\n",
       "    }\n",
       "</style>\n",
       "<table border=\"1\" class=\"dataframe\">\n",
       "  <thead>\n",
       "    <tr style=\"text-align: right;\">\n",
       "      <th></th>\n",
       "      <th>Layout</th>\n",
       "      <th>Rating</th>\n",
       "    </tr>\n",
       "  </thead>\n",
       "  <tbody>\n",
       "    <tr>\n",
       "      <th>0</th>\n",
       "      <td>Grid</td>\n",
       "      <td>1</td>\n",
       "    </tr>\n",
       "    <tr>\n",
       "      <th>1</th>\n",
       "      <td>Grid</td>\n",
       "      <td>3</td>\n",
       "    </tr>\n",
       "    <tr>\n",
       "      <th>2</th>\n",
       "      <td>Grid</td>\n",
       "      <td>3</td>\n",
       "    </tr>\n",
       "    <tr>\n",
       "      <th>3</th>\n",
       "      <td>Grid</td>\n",
       "      <td>2</td>\n",
       "    </tr>\n",
       "    <tr>\n",
       "      <th>4</th>\n",
       "      <td>Grid</td>\n",
       "      <td>4</td>\n",
       "    </tr>\n",
       "  </tbody>\n",
       "</table>\n",
       "</div>"
      ],
      "text/plain": [
       "  Layout  Rating\n",
       "0   Grid       1\n",
       "1   Grid       3\n",
       "2   Grid       3\n",
       "3   Grid       2\n",
       "4   Grid       4"
      ]
     },
     "execution_count": 4,
     "metadata": {},
     "output_type": "execute_result"
    }
   ],
   "source": [
    "# Convert the dataframe into long format\n",
    "layout_data_long = pd.melt(layout_data, var_name='Layout', value_name='Rating')\n",
    "layout_data_long.head()"
   ]
  },
  {
   "cell_type": "code",
   "execution_count": 5,
   "metadata": {},
   "outputs": [
    {
     "data": {
      "image/png": "[encoded data removed]",
      "text/plain": [
       "<Figure size 640x480 with 1 Axes>"
      ]
     },
     "metadata": {},
     "output_type": "display_data"
    }
   ],
   "source": [
    "# Create boxplots in Seaborn to compare the ratings of Grid versus List. Use the data in long format.\n",
    "sns.set_style('whitegrid')\n",
    "sns.boxplot(x = 'Layout', y = 'Rating', data = layout_data_long)\n",
    "plt.title('Comparison of ratings by layout')\n",
    "plt.show()"
   ]
  },
  {
   "cell_type": "markdown",
   "metadata": {},
   "source": [
    "### TODO Test whether grid is preferred\n",
    "\n",
    "- Can we reject the null hypothesis at p<0.01 using the Mann-Whitney U test?\n",
    "- Do users prefer grid view?"
   ]
  },
  {
   "cell_type": "code",
   "execution_count": 6,
   "metadata": {},
   "outputs": [
    {
     "name": "stdout",
     "output_type": "stream",
     "text": [
      "Is there a significant difference? Yes (p=0.000011)\n"
     ]
    }
   ],
   "source": [
    "# TODO: replace the content of this cell with your Python solution (use the mannwhitneyu method from scipy.stats)\n",
    "# 1 -\n",
    "mwu_result = stats.mannwhitneyu(layout_data['Grid'], layout_data['List'])\n",
    "print('Is there a significant difference?',\n",
    "      'Yes' if mwu_result.pvalue<0.01 else 'No',\n",
    "      '(p={:.6f})'.format(mwu_result.pvalue))\n",
    "\n",
    "# 2 - Users prefer the list layout over the grid layout because the median rating for the grid layout is lower"
   ]
  },
  {
   "cell_type": "markdown",
   "metadata": {},
   "source": [
    "### TODO p-hacking example\n",
    "\n",
    "Imagine we instead measured average montly spend. Let's assume a sample of 100 grid users spend \\$155 on average with standard deviation 40, and a sample of 100 list users spend \\$150 on average with standard deviation 40."
   ]
  },
  {
   "cell_type": "code",
   "execution_count": 7,
   "metadata": {},
   "outputs": [],
   "source": [
    "import numpy as np\n",
    "N = 100\n",
    "G_mu, G_sigma = 155, 40\n",
    "L_mu, L_sigma = 150, 40\n",
    "\n",
    "def run_experiment():\n",
    "    '''\n",
    "    Simulate an experiment with N subjects, each of whom spends a random amount of money\n",
    "    at a store using a grid layout, and a random amount of money at a store using a\n",
    "    linear layout. The amounts spent are normally distributed with mean and standard\n",
    "    deviation given by G_mu, G_sigma, L_mu, and L_sigma.\n",
    "\n",
    "    Returns:\n",
    "        The p-value of the unpaired t-test hypothesis test.\n",
    "    '''\n",
    "\n",
    "    G_spend = np.random.normal(G_mu, G_sigma, N)\n",
    "    L_spend = np.random.normal(L_mu, L_sigma, N)\n",
    "    return stats.ttest_ind(G_spend, L_spend).pvalue"
   ]
  },
  {
   "cell_type": "code",
   "execution_count": 39,
   "metadata": {},
   "outputs": [
    {
     "data": {
      "text/plain": [
       "0.5479105631999521"
      ]
     },
     "execution_count": 39,
     "metadata": {},
     "output_type": "execute_result"
    }
   ],
   "source": [
    "# You will get a different p-value each time you run this cell\n",
    "run_experiment()"
   ]
  },
  {
   "cell_type": "markdown",
   "metadata": {},
   "source": [
    "- Run 1000 experiments\n",
    "- For what percentage of experiments do we fail to reject the null hypothesis at 0.05?\n",
    "- Do your neighbours get the same percentage?"
   ]
  },
  {
   "cell_type": "code",
   "execution_count": 40,
   "metadata": {},
   "outputs": [
    {
     "name": "stdout",
     "output_type": "stream",
     "text": [
      "We fail to reject H0 87.3% of the time.\n"
     ]
    }
   ],
   "source": [
    "# TODO: replace the content of this cell with your Python solution\n",
    "# 1 - \n",
    "NUM_EXPTS = 1000\n",
    "pvalues = [run_experiment() for _ in range(NUM_EXPTS)]\n",
    "\n",
    "# 2 -\n",
    "ALPHA = 0.05\n",
    "Rejection_rate = 100 * sum([1 if p>ALPHA else 0 for p in pvalues])/NUM_EXPTS\n",
    "print(f'We fail to reject H0 {Rejection_rate}% of the time.')\n",
    "\n",
    "# 3 - You can also run multiple times. The result varies with different samples even though it's generated from the same population!"
   ]
  },
  {
   "cell_type": "markdown",
   "metadata": {},
   "source": [
    "## *STOP PLEASE. THE FOLLOWING IS FOR THE NEXT EXERCISE. THANKS.*"
   ]
  },
  {
   "cell_type": "markdown",
   "metadata": {},
   "source": [
    "## EXERCISE 2: Comparing mobile behaviour\n",
    "\n",
    "### Experimental setup\n",
    "\n",
    "Adapted from http://www.beefissuesquarterly.com/beefissuesquarterly.aspx?id=4078.\n",
    "\n",
    "*Problem*: Find out whether there is a difference in mobile behaviour between generations.\n",
    "\n",
    "*Question*: Is there any difference between groups?\n",
    "\n",
    "*Null hypothesis*: Group means are the same."
   ]
  },
  {
   "cell_type": "markdown",
   "metadata": {},
   "source": [
    "### Generate generation data\n",
    "\n",
    "Imagine we conducted a survey of 200 baby boomers (born 1945-1960), 200 generation xers (born 1961-1980) and 200 millennials (born 1981-1995).\n",
    "\n",
    "For the purposes of this exercise, let's generate some simulated samples. We assume:\n",
    "- Boomers send 5 texts per day on average with standard deviation 2;\n",
    "- GenXers send 12 texts per day on average with standard deviation 3;\n",
    "- Millennials send 20 texts per day on average with standard deviation 5.\n",
    "\n",
    "We use `numpy.random.normal` to generate random values from a normal distribution with these parameters"
   ]
  },
  {
   "cell_type": "code",
   "execution_count": 41,
   "metadata": {},
   "outputs": [],
   "source": [
    "N = 200\n",
    "B_mu, B_sigma = 5, 2\n",
    "X_mu, X_sigma = 12, 3\n",
    "M_mu, M_sigma = 20, 5\n",
    "B_data = [int(round(n)) for n in np.random.normal(B_mu, B_sigma, N)]\n",
    "X_data = [int(round(n)) for n in np.random.normal(X_mu, X_sigma, N)]\n",
    "M_data = [int(round(n)) for n in np.random.normal(M_mu, M_sigma, N)]"
   ]
  },
  {
   "cell_type": "markdown",
   "metadata": {},
   "source": [
    "### Visualise generation data\n",
    "\n",
    "Let's use the `matplotlib.pyplot.hist` function to plot our visualise our three distributions."
   ]
  },
  {
   "cell_type": "code",
   "execution_count": 43,
   "metadata": {},
   "outputs": [
    {
     "data": {
      "image/png": "[encoded data removed]",
      "text/plain": [
       "<Figure size 640x480 with 1 Axes>"
      ]
     },
     "metadata": {},
     "output_type": "display_data"
    }
   ],
   "source": [
    "start,end,n_bins = 0,30,30\n",
    "_,_,_ = plt.hist(B_data, bins=n_bins, range=(start,end), color='blue')\n",
    "_,_,_ = plt.hist(X_data, bins=n_bins, range=(start,end), color='purple')\n",
    "_,_,_ = plt.hist(M_data, bins=n_bins, range=(start,end), color='red')\n",
    "_ = plt.legend(handles=[mpatches.Patch(color='blue', label='Boomers'),\n",
    "                    mpatches.Patch(color='purple', label='GenXers'),\n",
    "                    mpatches.Patch(color='red', label='Millennials')])\n",
    "_ = plt.xlabel('Number of texts per day (t)')\n",
    "_ = plt.ylabel('Number of responses for t')"
   ]
  },
  {
   "cell_type": "markdown",
   "metadata": {},
   "source": [
    "### TODO Test for differences\n",
    "\n",
    "- Use one-way analysis of variance (ANOVA) to test whether the sample means are the same.\n",
    "- Can we reject the null hypothesis at p<0.01?\n",
    "- Is there a reliable difference in texting behaviour between generations?"
   ]
  },
  {
   "cell_type": "code",
   "execution_count": 44,
   "metadata": {},
   "outputs": [
    {
     "name": "stdout",
     "output_type": "stream",
     "text": [
      "True\n"
     ]
    }
   ],
   "source": [
    "anova_result = stats.f_oneway(B_data, X_data, M_data)\n",
    "print(bool(anova_result.pvalue < 0.01))"
   ]
  },
  {
   "cell_type": "markdown",
   "metadata": {},
   "source": [
    "### TODO Check ANOVA assumptions\n",
    "\n",
    "- Does our data meet the assumptions for a one-way ANOVA?\n",
    "- Can we reject the null hypothesis using the Kruskall-Wallis H-test (use `kruskal` from the `stats` package)?\n",
    "- Is there a significant difference in texting behaviour between generations?"
   ]
  },
  {
   "cell_type": "code",
   "execution_count": 45,
   "metadata": {},
   "outputs": [
    {
     "name": "stdout",
     "output_type": "stream",
     "text": [
      "Can we reject H0? Yes\n",
      "Is there a reliable difference? Almost certainly..\n",
      "(There is a 4.3008998545885166e-103% chance of falsely obtaining this result)\n"
     ]
    }
   ],
   "source": [
    "# TODO: replace the content of this cell with your Python solution\n",
    "# 1 - Our data sets are independent and normal, however, standard deviations are not equal.\n",
    "\n",
    "# 2 - \n",
    "kw_result = stats.kruskal(B_data, X_data, M_data)\n",
    "print('Can we reject H0?', 'Yes' if kw_result.pvalue<0.01 else 'No')\n",
    "\n",
    "# 3 - \n",
    "print('Is there a significant difference? Almost certainly..')\n",
    "print(f'(There is a {kw_result.pvalue*100}% chance of falsely obtaining this result)')"
   ]
  },
  {
   "cell_type": "markdown",
   "metadata": {},
   "source": [
    "### TODO Further generation exercises\n",
    "\n",
    "Imagine we wanted to compare millennials to generation z (born since 1996). Let's assume this population sends 21 texts per day on average with standard deviation 5.\n",
    "\n",
    "- Generate a simulated sample Z_data.\n",
    "- What test should we use?\n",
    "- Is there a reliable difference in texting behaviour between millennials and generation Z?"
   ]
  },
  {
   "cell_type": "code",
   "execution_count": 46,
   "metadata": {},
   "outputs": [
    {
     "name": "stdout",
     "output_type": "stream",
     "text": [
      "Is there a reliable difference? No (p=0.161)\n"
     ]
    }
   ],
   "source": [
    "# TODO: replace the content of this cell with your Python solution\n",
    "# 1 - \n",
    "Z_mu, Z_sigma = 21, 5\n",
    "Z_data = [int(round(n)) for n in np.random.normal(Z_mu, Z_sigma, N)]\n",
    "\n",
    "# 2 - Either will work since standard deviations are equal.\n",
    "\n",
    "# 3 - \n",
    "mz_anova_result = stats.f_oneway(M_data, Z_data)\n",
    "print('Is there a reliable difference?',\n",
    "      'Yes' if mz_anova_result.pvalue<0.01 else 'No',\n",
    "      '(p={:.3f})'.format(mz_anova_result.pvalue))"
   ]
  },
  {
   "cell_type": "markdown",
   "metadata": {},
   "source": [
    "## *STOP PLEASE. THE FOLLOWING IS FOR THE NEXT EXERCISE. THANKS.*"
   ]
  },
  {
   "cell_type": "markdown",
   "metadata": {},
   "source": [
    "## EXERCISE 3: Confidence intervals\n",
    "\n",
    "[Adapted from Data Science from Scratch pages 183-184 and http://people.duke.edu/~ccc14/pcfb/analysis.html.]\n",
    "\n",
    "Imagine we want to quantify the variance of the mean score within a sample but we can't or don't want to run our classifier multiple times. We can use bootstrap resampling to do this."
   ]
  },
  {
   "cell_type": "markdown",
   "metadata": {},
   "source": [
    "### Generate non-normal data\n",
    "\n",
    "First let's generate some data according to a beta distribution with a=8 and b=2."
   ]
  },
  {
   "cell_type": "code",
   "execution_count": 47,
   "metadata": {},
   "outputs": [
    {
     "data": {
      "image/png": "[encoded data removed]",
      "text/plain": [
       "<Figure size 640x480 with 1 Axes>"
      ]
     },
     "metadata": {},
     "output_type": "display_data"
    }
   ],
   "source": [
    "N = 1000\n",
    "a = 8\n",
    "b = 2\n",
    "D = [np.random.beta(a, b) for _ in range(N)]\n",
    "_, _, _ = plt.hist(D, bins=100, color='blue')"
   ]
  },
  {
   "cell_type": "markdown",
   "metadata": {},
   "source": [
    "### Bootstrapping a statistic\n",
    "\n",
    "We define functions to randomly sample elements with replacement and to apply a statistic funcion over these samples many times. \n",
    "\n",
    "Note: Please be patient. This might take a little bit of time to run."
   ]
  },
  {
   "cell_type": "code",
   "execution_count": 48,
   "metadata": {},
   "outputs": [
    {
     "name": "stdout",
     "output_type": "stream",
     "text": [
      "[0.8031366194259306, 0.8039804085858296, 0.7968812212644752, 0.8010609295139262, 0.8069075778710779]\n"
     ]
    }
   ],
   "source": [
    "S = 100\n",
    "\n",
    "def bootstrap_sample(data):\n",
    "    return [np.random.choice(data) for _ in data]\n",
    "\n",
    "def bootstrap_statistic(data, stats_fn, num_samples):\n",
    "    return [stats_fn(bootstrap_sample(data)) for _ in range(num_samples)]\n",
    "\n",
    "bs_mean = bootstrap_statistic(D, np.mean, S)\n",
    "print(bs_mean[:5])"
   ]
  },
  {
   "cell_type": "markdown",
   "metadata": {},
   "source": [
    "### Computing the confidence interval\n",
    "\n",
    "Finally we define a function to compute the confidence interval at a given level. For the `level` parameter, 0.05 corresponds to a 95% confidence interval."
   ]
  },
  {
   "cell_type": "code",
   "execution_count": 49,
   "metadata": {},
   "outputs": [
    {
     "name": "stdout",
     "output_type": "stream",
     "text": [
      "0.802 [0.792,0.812]\n"
     ]
    }
   ],
   "source": [
    "def bootstrap_ci(stats, level):\n",
    "    lower_percentile = 0.5*level\n",
    "    upper_percentile = 100 - 0.5*level\n",
    "    return np.percentile(stats, lower_percentile), np.percentile(stats, upper_percentile)\n",
    "\n",
    "lb, ub = bootstrap_ci(bs_mean, 0.05)\n",
    "\n",
    "print('{:.3f} [{:.3f},{:.3f}]'.format(np.mean(D), lb, ub))"
   ]
  },
  {
   "cell_type": "markdown",
   "metadata": {},
   "source": [
    "- Bootstrap median statistic and calculate confidence interval\n",
    "- Discussion: When are confidence intervals better than standard deviation?\n",
    "- Discussion: When could we use a bootstrap CI?"
   ]
  },
  {
   "cell_type": "code",
   "execution_count": 50,
   "metadata": {},
   "outputs": [
    {
     "name": "stdout",
     "output_type": "stream",
     "text": [
      "[0.83328925588937, 0.827199770187634, 0.8166802084723687, 0.8135079409594655, 0.8212678102053027]\n",
      "0.822 [0.809,0.833]\n"
     ]
    }
   ],
   "source": [
    "# TODO: replace the content of this cell with your Python solution\n",
    "# 1 - \n",
    "bs_median = bootstrap_statistic(D, np.median, S)\n",
    "print(bs_median[:5])\n",
    "lb_median, ub_median = bootstrap_ci(bs_median, 0.05)\n",
    "print('{:.3f} [{:.3f},{:.3f}]'.format(np.median(D), lb_median, ub_median))\n",
    "\n",
    "# 2 - From Frost. Understanding Hypothesis Tests: Confidence Intervals and Confidence Levels.\n",
    "#     http://blog.minitab.com/blog/adventures-in-statistics/understanding-hypothesis-tests%3A-confidence-intervals-and-confidence-levels\n",
    "#     Confidence intervals serve as good estimates of the population parameter because the procedure tends to produce \n",
    "#     intervals that contain the parameter. Confidence intervals are comprised of the point estimate (the most likely \n",
    "#     value) and a margin of error around that point estimate. The margin of error indicates the amount of uncertainty \n",
    "#     that surrounds the sample estimate of the population parameter.\n",
    "#     In this vein, you can use confidence intervals to assess the precision of the sample estimate. For a specific \n",
    "#     variable, a narrower confidence interval [90 110] suggests a more precise estimate of the population parameter \n",
    "#     than a wider confidence interval [50 150].\n",
    "\n",
    "# 3 - The bootstrap is a general, nonparametric procedure for calculating CIs."
   ]
  }
 ],
 "metadata": {
  "kernelspec": {
   "display_name": "Python 3",
   "language": "python",
   "name": "python3"
  },
  "language_info": {
   "codemirror_mode": {
    "name": "ipython",
    "version": 3
   },
   "file_extension": ".py",
   "mimetype": "text/x-python",
   "name": "python",
   "nbconvert_exporter": "python",
   "pygments_lexer": "ipython3",
   "version": "3.8.13"
  }
 },
 "nbformat": 4,
 "nbformat_minor": 1
}
